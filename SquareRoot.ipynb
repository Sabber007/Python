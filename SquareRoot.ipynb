{
 "cells": [
  {
   "cell_type": "markdown",
   "id": "95e887c1",
   "metadata": {},
   "source": [
    "# Square Root"
   ]
  },
  {
   "cell_type": "markdown",
   "id": "a43fd1e6",
   "metadata": {},
   "source": [
    "This code is for obtaining square root using Newton-Raphson's method."
   ]
  },
  {
   "cell_type": "code",
   "execution_count": 5,
   "id": "79a578a9",
   "metadata": {},
   "outputs": [
    {
     "name": "stdout",
     "output_type": "stream",
     "text": [
      "Square root of (36) = 6.0\n"
     ]
    }
   ],
   "source": [
    "y_input = 36\n",
    "x_guess = 5\n",
    "Err = 1\n",
    "\n",
    "while Err > 1e-2:\n",
    "    x_new = (x_guess + (y_input - x_guess ** 2) / (2 * x_guess))\n",
    "    Err = abs(x_new - x_guess)\n",
    "    x_guess = x_new\n",
    "\n",
    "root = x_new\n",
    "print(f\"Square root of ({y_input}) = {round(root,3)}\")"
   ]
  }
 ],
 "metadata": {
  "kernelspec": {
   "display_name": "Python 3 (ipykernel)",
   "language": "python",
   "name": "python3"
  },
  "language_info": {
   "codemirror_mode": {
    "name": "ipython",
    "version": 3
   },
   "file_extension": ".py",
   "mimetype": "text/x-python",
   "name": "python",
   "nbconvert_exporter": "python",
   "pygments_lexer": "ipython3",
   "version": "3.9.7"
  }
 },
 "nbformat": 4,
 "nbformat_minor": 5
}
