{
 "cells": [
  {
   "cell_type": "markdown",
   "id": "95e887c1",
   "metadata": {},
   "source": [
    "# Square Root"
   ]
  },
  {
   "cell_type": "markdown",
   "id": "a43fd1e6",
   "metadata": {},
   "source": [
    "This code is for obtaining square root using Newton's method."
   ]
  },
  {
   "cell_type": "code",
   "execution_count": 17,
   "id": "79a578a9",
   "metadata": {},
   "outputs": [
    {
     "data": {
      "text/plain": [
       "6.0"
      ]
     },
     "execution_count": 17,
     "metadata": {},
     "output_type": "execute_result"
    }
   ],
   "source": [
    "y_input = 36\n",
    "x_guess = y_input\n",
    "Err = 1\n",
    "\n",
    "while Err > 1e-12:\n",
    "    x_new = 0.5*(x_guess + y_input / x_guess)\n",
    "    Err = abs(x_new - x_guess)\n",
    "    x_guess = x_new\n",
    "\n",
    "root = x_new\n",
    "root"
   ]
  }
 ],
 "metadata": {
  "kernelspec": {
   "display_name": "Python 3 (ipykernel)",
   "language": "python",
   "name": "python3"
  },
  "language_info": {
   "codemirror_mode": {
    "name": "ipython",
    "version": 3
   },
   "file_extension": ".py",
   "mimetype": "text/x-python",
   "name": "python",
   "nbconvert_exporter": "python",
   "pygments_lexer": "ipython3",
   "version": "3.9.7"
  }
 },
 "nbformat": 4,
 "nbformat_minor": 5
}
