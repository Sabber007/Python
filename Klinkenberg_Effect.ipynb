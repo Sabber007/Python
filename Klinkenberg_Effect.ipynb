{
 "cells": [
  {
   "cell_type": "markdown",
   "id": "79962ab2",
   "metadata": {},
   "source": [
    "# Klinkenberg Effect Using Newton-Raphson's Method"
   ]
  },
  {
   "cell_type": "markdown",
   "id": "5e609cae",
   "metadata": {},
   "source": [
    "This code is for estimation of liquid permeability with gas permeability data."
   ]
  },
  {
   "cell_type": "code",
   "execution_count": 16,
   "id": "09f86c11",
   "metadata": {},
   "outputs": [
    {
     "name": "stdout",
     "output_type": "stream",
     "text": [
      "Liquid Permeability: 22.849 mD\n"
     ]
    }
   ],
   "source": [
    "K_guess = 10 #Initial guess for permeability\n",
    "Pm = 2.152; #Mean Pressure\n",
    "Kg = 46.6 #Gas Permeability in mD\n",
    "Err = 1\n",
    "\n",
    "while Err > 1e-12:\n",
    "    K_new = K_guess - (6.9 * (K_guess ** 0.64) + Pm * K_guess - Pm * Kg)/(6.9 * 0.64 * K_guess ** (0.64 - 1) + Pm)\n",
    "    Err = abs(K_new - K_guess)\n",
    "    K_guess = K_new\n",
    "\n",
    "KL = K_new\n",
    "print(f\"Liquid Permeability: {round(KL,3)} mD\")"
   ]
  }
 ],
 "metadata": {
  "kernelspec": {
   "display_name": "Python 3 (ipykernel)",
   "language": "python",
   "name": "python3"
  },
  "language_info": {
   "codemirror_mode": {
    "name": "ipython",
    "version": 3
   },
   "file_extension": ".py",
   "mimetype": "text/x-python",
   "name": "python",
   "nbconvert_exporter": "python",
   "pygments_lexer": "ipython3",
   "version": "3.9.7"
  }
 },
 "nbformat": 4,
 "nbformat_minor": 5
}
